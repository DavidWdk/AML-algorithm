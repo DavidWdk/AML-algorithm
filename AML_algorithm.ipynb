{
 "cells": [
  {
   "attachments": {},
   "cell_type": "markdown",
   "metadata": {},
   "source": [
    "<h1>Assignment for the Case AML (System Development for Fintech)</h1>\n",
    "<h4>David Widlak</h4>\n",
    "This document represents an anti money laundering algorithm. This document converts MT103 Swift messages into a workable data structure. These messages are then analyzed using different functions, any suspicious transactions are then flagged using these functions. "
   ]
  },
  {
   "attachments": {},
   "cell_type": "markdown",
   "metadata": {},
   "source": [
    "<h4>Initial inclusion of assisting Python libraries</h4>"
   ]
  },
  {
   "cell_type": "code",
   "execution_count": 413,
   "metadata": {},
   "outputs": [],
   "source": [
    "import re\n",
    "from datetime import date\n",
    "import pandas as pd\n",
    "from mt103 import MT103\n",
    "import numpy as np"
   ]
  },
  {
   "attachments": {},
   "cell_type": "markdown",
   "metadata": {},
   "source": [
    "<h4>Converting MT103 Swift message into a different data structure</h4>"
   ]
  },
  {
   "cell_type": "code",
   "execution_count": 452,
   "metadata": {},
   "outputs": [],
   "source": [
    "# Function to structurize MT103 messages into a dictionary\n",
    "def structurize_mt103(message):\n",
    "    msg_dic = {}\n",
    "    # In case the message is a text file\n",
    "    message = message.read()\n",
    "    # Split the unstructured message with regex\n",
    "    key_value = re.split(r'}{|\\n:', message)\n",
    "    # Key without associating value\n",
    "    key_value.remove('4:')\n",
    "\n",
    "    for kv_str in key_value:\n",
    "        # Clean the key strings\n",
    "        # kv_str = re.sub(r'{|}|\\n', '', str(key_value))\n",
    "        # Split into key value pairs\n",
    "        key, value = kv_str.split(':', maxsplit = 1)\n",
    "        msg_dic[key] = value\n",
    "\n",
    "    return msg_dic"
   ]
  },
  {
   "cell_type": "code",
   "execution_count": 443,
   "metadata": {},
   "outputs": [],
   "source": [
    "# Create dataframe, which may later be populated with MT103 messages. Returns a pandas dataframe.\n",
    "# This function creates readable keys, so MT103 variables can be assigned to readable keys.\n",
    "# This function also creates a dictionary which contains all keys with variable requirements as values\n",
    "\n",
    "\n",
    "def create_dataframe(mt103_markup_message):\n",
    "    df, value_requirements = pd.DataFrame(), {}\n",
    "\n",
    "    # Define regular expression ˚pattern to find keys in the message\n",
    "    key_re = re.compile(r'(transaction|instrument|originator|beneficiary|ingoing|outgoing)_*')\n",
    "\n",
    "    # Load MT103 file and read it line by line\n",
    "    for line in mt103_markup_message:\n",
    "        # Use the regex to find key / value pairs\n",
    "        if key_re.search(line) and not line.startswith('//'):   \n",
    "            key, value = line.split(maxsplit=1)    \n",
    "            # Assign keys as columns into the dataframe\n",
    "            key_name = key.rstrip(':')\n",
    "            value_requirements[key] = value\n",
    "            df[key_name] = np.NaN\n",
    "\n",
    "    # Returns dataframe and value requirements dictionary\n",
    "    return df, value_requirements"
   ]
  },
  {
   "cell_type": "code",
   "execution_count": 459,
   "metadata": {},
   "outputs": [],
   "source": []
  },
  {
   "cell_type": "code",
   "execution_count": 476,
   "metadata": {},
   "outputs": [],
   "source": [
    "def get_key(val, dic):\n",
    "    for key, value in dic.items():\n",
    "        if val == value:\n",
    "            return key\n",
    " \n",
    "    return \"key doesn't exist\""
   ]
  },
  {
   "cell_type": "code",
   "execution_count": 498,
   "metadata": {},
   "outputs": [
    {
     "name": "stdout",
     "output_type": "stream",
     "text": [
      "alalal\n",
      "alalal\n",
      "210322USD5000,\n",
      "Cannot convert data to integer type\n",
      "alalal\n"
     ]
    },
    {
     "data": {
      "text/html": [
       "<div>\n",
       "<style scoped>\n",
       "    .dataframe tbody tr th:only-of-type {\n",
       "        vertical-align: middle;\n",
       "    }\n",
       "\n",
       "    .dataframe tbody tr th {\n",
       "        vertical-align: top;\n",
       "    }\n",
       "\n",
       "    .dataframe thead th {\n",
       "        text-align: right;\n",
       "    }\n",
       "</style>\n",
       "<table border=\"1\" class=\"dataframe\">\n",
       "  <thead>\n",
       "    <tr style=\"text-align: right;\">\n",
       "      <th></th>\n",
       "      <th>transaction_date</th>\n",
       "      <th>transaction_id</th>\n",
       "      <th>transaction_message</th>\n",
       "      <th>transaction_currency</th>\n",
       "      <th>transaction_type</th>\n",
       "      <th>transaction_direction</th>\n",
       "      <th>transaction_status</th>\n",
       "      <th>instrument_type</th>\n",
       "      <th>originator_full_name</th>\n",
       "      <th>originator_first_name</th>\n",
       "      <th>...</th>\n",
       "      <th>originator_fi_country</th>\n",
       "      <th>outgoing_intermediary_fi_bic</th>\n",
       "      <th>beneficiary_full_name</th>\n",
       "      <th>beneficiary_first_name</th>\n",
       "      <th>beneficiary_address</th>\n",
       "      <th>beneficiary_country</th>\n",
       "      <th>beneficiary_branch_id</th>\n",
       "      <th>beneficiary_bic</th>\n",
       "      <th>beneficiary_fi_name</th>\n",
       "      <th>beneficiary_fi_country</th>\n",
       "    </tr>\n",
       "  </thead>\n",
       "  <tbody>\n",
       "    <tr>\n",
       "      <th>0</th>\n",
       "      <td>NaN</td>\n",
       "      <td>MT103 0001</td>\n",
       "      <td>NaN</td>\n",
       "      <td>NaN</td>\n",
       "      <td>CRED</td>\n",
       "      <td>NaN</td>\n",
       "      <td>NaN</td>\n",
       "      <td>NaN</td>\n",
       "      <td>NaN</td>\n",
       "      <td>NaN</td>\n",
       "      <td>...</td>\n",
       "      <td>NaN</td>\n",
       "      <td>NaN</td>\n",
       "      <td>/GB57METR12345678901234\\nUnset\\nNORDFISCH GMBH...</td>\n",
       "      <td>NaN</td>\n",
       "      <td>/GB57METR12345678901234\\nUnset\\nNORDFISCH GMBH...</td>\n",
       "      <td>NaN</td>\n",
       "      <td>NaN</td>\n",
       "      <td>/GB57METR12345678901234\\nUnset\\nNORDFISCH GMBH...</td>\n",
       "      <td>/GB57METR12345678901234\\nUnset\\nNORDFISCH GMBH...</td>\n",
       "      <td>/GB57METR12345678901234\\nUnset\\nNORDFISCH GMBH...</td>\n",
       "    </tr>\n",
       "  </tbody>\n",
       "</table>\n",
       "<p>1 rows × 26 columns</p>\n",
       "</div>"
      ],
      "text/plain": [
       "   transaction_date transaction_id  transaction_message  transaction_currency  \\\n",
       "0               NaN     MT103 0001                  NaN                   NaN   \n",
       "\n",
       "  transaction_type  transaction_direction  transaction_status  \\\n",
       "0             CRED                    NaN                 NaN   \n",
       "\n",
       "   instrument_type  originator_full_name  originator_first_name  ...  \\\n",
       "0              NaN                   NaN                    NaN  ...   \n",
       "\n",
       "   originator_fi_country  outgoing_intermediary_fi_bic  \\\n",
       "0                    NaN                           NaN   \n",
       "\n",
       "                               beneficiary_full_name  beneficiary_first_name  \\\n",
       "0  /GB57METR12345678901234\\nUnset\\nNORDFISCH GMBH...                     NaN   \n",
       "\n",
       "                                 beneficiary_address  beneficiary_country  \\\n",
       "0  /GB57METR12345678901234\\nUnset\\nNORDFISCH GMBH...                  NaN   \n",
       "\n",
       "   beneficiary_branch_id                                    beneficiary_bic  \\\n",
       "0                    NaN  /GB57METR12345678901234\\nUnset\\nNORDFISCH GMBH...   \n",
       "\n",
       "                                 beneficiary_fi_name  \\\n",
       "0  /GB57METR12345678901234\\nUnset\\nNORDFISCH GMBH...   \n",
       "\n",
       "                              beneficiary_fi_country  \n",
       "0  /GB57METR12345678901234\\nUnset\\nNORDFISCH GMBH...  \n",
       "\n",
       "[1 rows x 26 columns]"
      ]
     },
     "execution_count": 498,
     "metadata": {},
     "output_type": "execute_result"
    }
   ],
   "source": [
    "with open('mt103.txt', 'r') as file:\n",
    "    swift_dic = structurize_mt103(file)\n",
    "\n",
    "with open('swift.txt', 'r') as file:\n",
    "    df, value_requirements = create_dataframe(file)\n",
    "\n",
    "swift_corr = {\n",
    "    'transaction_date': ['32A', 'datetime'],\n",
    "    'transaction_id': ['20', 'string'],\n",
    "    'transaction_message': ['70', 'string'],\n",
    "    'transaction_currency': ['32A', (r\"^(AED|AFN|ALL|AMD|ANG|AOA|ARS|AUD|AWG|AZN|BAM|BBD|BDT|BGN|BHD|B IF|BMD|BND|BOB|BOV|BRL|BSD|BTN|BWP|BYR|BZD|CAD|CDF|CHE|CHF|CHW|CLF|CLP |CNY|COP|COU|CRC|CUC|CUP|CVE|CZK|DJF|DKK|DOP|DZD|EGP|ERN|ETB|EUR|FJD|F KP|GBP|GEL|GHS|GIP|GMD|GNF|GTQ|GYD|HKD|HNL|HRK|HTG|HUF|IDR|ILS|INR|IQD |IRR|ISK|JMD|JOD|JPY|KES|KGS|KHR|KMF|KPW|KRW|KWD|KYD|KZT|LAK|LBP|LKR|L RD|LSL|LTL|LVL|LYD|MAD|MDL|MGA|MKD|MMK|MNT|MOP|MRO|MUR|MVR|MWK|MXN|MXV |MYR|MZN|NAD|NGN|NIO|NOK|NPR|NZD|OMR|PAB|PEN|PGK|PHP|PKR|PLN|PYG|QAR|R ON|RSD|RUB|RWF|SAR|SBD|SCR|SDG|SEK|SGD|SHP|SLL|SOS|SRD|SSP|STD|SVC|SYP |SZL|THB|TJS|TMT|TND|TOP|TRY|TTD|TWD|TZS|UAH|UGX|USD|USN|USS|UYI|UYU|U ZS|VEF|VND|VUV|WST|XAF|XAG|XAU|XBA|XBB|XBC|XBD|XCD|XDR|XFU|XOF|XPD|XPF |XPT|XSU|XTS|XUA|XXX|YER|ZAR|ZMW|ZWL)$\")],\n",
    "    'transaction_amount': ['32A', 'int'],\n",
    "    'transaction_type': ['23B', 'string'],\n",
    "    'transaction_direction': ['null', ['i', 'o', 'io']],\n",
    "    'transaction_status': ['null', ['accepted', 'rejected']],\n",
    "    'instrument_type': ['null', ['cash','check','ach/lcy_transfers','wire','securities','e- money/mobile_money','travellers_cheques','prepaid_cards','certified_ch eques','vouchers','cashier_cheques/money_order','precious_metal','cryp to/virtual_assets','interest/dividend','other']],\n",
    "    'originator_full_name': ['50', 'string'],\n",
    "    'originator_first_name': ['null', ['string', '']],\n",
    "    'originator_middle_names_patronymic': ['null', ['string', '']],\n",
    "    'originator_last_name': ['null', ['string', '']],\n",
    "    'originator_address': ['50', 'string'],\n",
    "    'originator_country': ['50', (r\"^(AF|AX|AL|DZ|AS|AD|AO|AI|AQ|AG|AR|AM|AW|AU|AT|AZ|BS|BH|BD|BB|B Y|BE|BZ|BJ|BM|BT|BO|BQ|BA|BW|BV|BR|IO|BN|BG|BF|BI|KH|CM|CA|CV|KY|CF|TD |CL|CN|CX|CC|CO|KM|CG|CD|CK|CR|CI|HR|CU|CW|CY|CZ|DK|DJ|DM|DO|EC|EG|SV| GQ|ER|EE|ET|FK|FO|FJ|FI|FR|GF|PF|TF|GA|GM|GE|DE|GH|GI|GR|GL|GD|GP|GU|G T|GG|GN|GW|GY|HT|HM|VA|HN|HK|HU|IS|IN|ID|IR|IQ|IE|IM|IL|IT|JM|JP|JE|JO |KZ|KE|KI|KP|KR|KW|KG|LA|LV|LB|LS|LR|LY|LI|LT|LU|MO|MK|MG|MW|MY|MV|ML| MT|MH|MQ|MR|MU|YT|MX|FM|MD|MC|MN|ME|MS|MA|MZ|MM|NA|NR|NP|NL|NC|NZ|NI|N E|NG|NU|NF|MP|NO|OM|PK|PW|PS|PA|PG|PY|PE|PH|PN|PL|PT|PR|QA|RE|RO|RU|RW |BL|SH|KN|LC|MF|PM|VC|WS|SM|ST|SA|SN|RS|SC|SL|SG|SX|SK|SI|SB|SO|ZA|GS| SS|ES|LK|SD|SR|SJ|SZ|SE|CH|SY|TW|TJ|TZ|TH|TL|TG|TK|TO|TT|TN|TR|TM|TC|T V|UG|UA|AE|GB|US|UM|UY|UZ|VU|VE|VN|VG|VI|WF|EH|YE|ZM|ZW)$\")],\n",
    "    'originator_account_number': ['50', 'string'],\n",
    "    'originator_branch_id': ['null', ['string', '']],\n",
    "    'originator_bic': ['50', 'string'],\n",
    "    'originator_fi_name': ['50', 'string'],\n",
    "    'originator_fi_country': ['50', 'string'],\n",
    "    'incoming_intermediary_fi_bic': ['56', [(r\"/([a-z]{4}[a-z]{2}[a-z0-9]{2}([a- z0-9]{3})?;?)+/gmi\"), '']],\n",
    "    'outgoing_intermediary_fi_bic': ['null', [(r\"/([a-z]{4}[a-z]{2}[a-z0-9]{2}([a- z0-9]{3})?;?)+/gmi\"), '']],\n",
    "    'beneficiary_full_name': ['59', 'string'],\n",
    "    'beneficiary_first_name': ['null', ['string', '']],\n",
    "    'beneficiary_middle_names_patronymic': ['null', ['string', '']],\n",
    "    'originator_middle_names_patronymic': ['null', ['string', '']],\n",
    "    'beneficiary_last_name': ['null', ['string', '']],\n",
    "    'beneficiary_account_number': ['null', 'string'],\n",
    "    'beneficiary_address': ['59', 'string'],\n",
    "    'beneficiary_country': ['59', (r\"^(AF|AX|AL|DZ|AS|AD|AO|AI|AQ|AG|AR|AM|AW|AU|AT|AZ|BS|BH|BD|BB|B Y|BE|BZ|BJ|BM|BT|BO|BQ|BA|BW|BV|BR|IO|BN|BG|BF|BI|KH|CM|CA|CV|KY|CF|TD |CL|CN|CX|CC|CO|KM|CG|CD|CK|CR|CI|HR|CU|CW|CY|CZ|DK|DJ|DM|DO|EC|EG|SV| GQ|ER|EE|ET|FK|FO|FJ|FI|FR|GF|PF|TF|GA|GM|GE|DE|GH|GI|GR|GL|GD|GP|GU|G T|GG|GN|GW|GY|HT|HM|VA|HN|HK|HU|IS|IN|ID|IR|IQ|IE|IM|IL|IT|JM|JP|JE|JO |KZ|KE|KI|KP|KR|KW|KG|LA|LV|LB|LS|LR|LY|LI|LT|LU|MO|MK|MG|MW|MY|MV|ML| MT|MH|MQ|MR|MU|YT|MX|FM|MD|MC|MN|ME|MS|MA|MZ|MM|NA|NR|NP|NL|NC|NZ|NI|N E|NG|NU|NF|MP|NO|OM|PK|PW|PS|PA|PG|PY|PE|PH|PN|PL|PT|PR|QA|RE|RO|RU|RW |BL|SH|KN|LC|MF|PM|VC|WS|SM|ST|SA|SN|RS|SC|SL|SG|SX|SK|SI|SB|SO|ZA|GS| SS|ES|LK|SD|SR|SJ|SZ|SE|CH|SY|TW|TJ|TZ|TH|TL|TG|TK|TO|TT|TN|TR|TM|TC|T V|UG|UA|AE|GB|US|UM|UY|UZ|VU|VE|VN|VG|VI|WF|EH|YE|ZM|ZW)$\")],\n",
    "    'beneficiary_branch_id': ['null', ['string', '']],\n",
    "    'beneficiary_bic': ['59', 'string'],\n",
    "    'beneficiary_fi_name': ['59', 'string'],\n",
    "    'beneficiary_fi_country': ['59', 'string'],\n",
    "}\n",
    "\n",
    "\n",
    "# TODO:\n",
    "# For each key in swift_corr, get the value that's in the swift_dic\n",
    "# For each value in the swift_dic, find the corresponding variable, which is the key in swift_corr. The belonging value is the mt103 tag\n",
    "# For each value, put it in the df. But before doing so, get the requirements which is the second list item in the swift_corr.\n",
    "\n",
    "populated_dic = {}\n",
    "\n",
    "# Function to populate the dataframe from a MT103 dictionary. Function takes swift MT103 message as parameter\n",
    "# and uses the swift_corr as translator, it gaps the bridge between swift tags and readable variable names.\n",
    "# This function also checks the input validity which is the second list value item in swift_corr.\n",
    "def populate_dataframe(mt103_message):\n",
    "    for item in swift_corr:\n",
    "        for key in mt103_message:\n",
    "            if swift_corr[item][0] == key:\n",
    "                # TODO: Add check for type in swift_corr\n",
    "                if swift_corr[item][1] == 'string':\n",
    "                    try:\n",
    "                        df[item] = [str(mt103_message[key])]\n",
    "                    except:\n",
    "                        print('Cannot convert data to string type')\n",
    "                elif swift_corr[item][1] == 'int':\n",
    "                    try:\n",
    "                        df[item] = [int(mt103_message[key])]\n",
    "                    except:\n",
    "                        print('Cannot convert data to integer type')\n",
    "                elif swift_corr[item][1] == 'datetime':\n",
    "                    try:\n",
    "                        df[item] = [date(mt103_message[key])]\n",
    "                    except:\n",
    "                        print('Cannot convert data to date type')\n",
    "                elif len(swift_corr[item]) > 1:\n",
    "                    print('alalal')\n",
    "                    \n",
    "\n",
    "            # key = [k for k, v in swift_corr.items() if v == item_parts[1]]\n",
    "            # result_list.append(item_parts[0])\n",
    "\n",
    "populate_dataframe(swift_dic)\n",
    "df"
   ]
  },
  {
   "cell_type": "code",
   "execution_count": null,
   "metadata": {},
   "outputs": [],
   "source": [
    "# Function to assign dictionary keys to readable variable names and requirements"
   ]
  },
  {
   "cell_type": "code",
   "execution_count": 440,
   "metadata": {},
   "outputs": [
    {
     "data": {
      "text/plain": [
       "{}"
      ]
     },
     "execution_count": 440,
     "metadata": {},
     "output_type": "execute_result"
    }
   ],
   "source": []
  },
  {
   "cell_type": "code",
   "execution_count": 486,
   "metadata": {},
   "outputs": [
    {
     "data": {
      "text/plain": [
       "{'transaction_date:': 'xDateTimeTz\\n',\n",
       " 'transaction_id:': 'notEmpty\\n',\n",
       " 'transaction_message:': 'notEmpty\\n',\n",
       " 'transaction_currency:': 'regex(\"^(AED|AFN|ALL|AMD|ANG|AOA|ARS|AUD|AWG|AZN|BAM|BBD|BDT|BGN|BHD|B IF|BMD|BND|BOB|BOV|BRL|BSD|BTN|BWP|BYR|BZD|CAD|CDF|CHE|CHF|CHW|CLF|CLP |CNY|COP|COU|CRC|CUC|CUP|CVE|CZK|DJF|DKK|DOP|DZD|EGP|ERN|ETB|EUR|FJD|F KP|GBP|GEL|GHS|GIP|GMD|GNF|GTQ|GYD|HKD|HNL|HRK|HTG|HUF|IDR|ILS|INR|IQD |IRR|ISK|JMD|JOD|JPY|KES|KGS|KHR|KMF|KPW|KRW|KWD|KYD|KZT|LAK|LBP|LKR|L RD|LSL|LTL|LVL|LYD|MAD|MDL|MGA|MKD|MMK|MNT|MOP|MRO|MUR|MVR|MWK|MXN|MXV |MYR|MZN|NAD|NGN|NIO|NOK|NPR|NZD|OMR|PAB|PEN|PGK|PHP|PKR|PLN|PYG|QAR|R ON|RSD|RUB|RWF|SAR|SBD|SCR|SDG|SEK|SGD|SHP|SLL|SOS|SRD|SSP|STD|SVC|SYP |SZL|THB|TJS|TMT|TND|TOP|TRY|TTD|TWD|TZS|UAH|UGX|USD|USN|USS|UYI|UYU|U ZS|VEF|VND|VUV|WST|XAF|XAG|XAU|XBA|XBB|XBC|XBD|XCD|XDR|XFU|XOF|XPD|XPF |XPT|XSU|XTS|XUA|XXX|YER|ZAR|ZMW|ZWL)$\")\\n',\n",
       " 'transaction_type:': 'notEmpty\\n',\n",
       " 'transaction_direction:': 'any(\"i\", \"o\", \"io\")\\n',\n",
       " 'transaction_status:': 'any(\"accepted\", \"rejected\")\\n',\n",
       " 'instrument_type:': 'any(\"cash\",\"check\",\"ach/lcy_transfers\",\"wire\",\"securities\",\"e- money/mobile_money\",\"travellers_cheques\",\"prepaid_cards\",\"certified_ch eques\",\"vouchers\",\"cashier_cheques/money_order\",\"precious_metal\",\"cryp to/virtual_assets\",\"interest/dividend\",\"other\")\\n',\n",
       " 'originator_full_name:': 'notEmpty\\n',\n",
       " 'originator_first_name:': 'notEmpty or empty originator_middle_names_patronymic: notEmpty or empty originator_last_name: notEmpty or empty\\n',\n",
       " 'originator_address:': 'notEmpty\\n',\n",
       " 'originator_country:': 'regex(\"^(AF|AX|AL|DZ|AS|AD|AO|AI|AQ|AG|AR|AM|AW|AU|AT|AZ|BS|BH|BD|BB|B Y|BE|BZ|BJ|BM|BT|BO|BQ|BA|BW|BV|BR|IO|BN|BG|BF|BI|KH|CM|CA|CV|KY|CF|TD |CL|CN|CX|CC|CO|KM|CG|CD|CK|CR|CI|HR|CU|CW|CY|CZ|DK|DJ|DM|DO|EC|EG|SV| GQ|ER|EE|ET|FK|FO|FJ|FI|FR|GF|PF|TF|GA|GM|GE|DE|GH|GI|GR|GL|GD|GP|GU|G T|GG|GN|GW|GY|HT|HM|VA|HN|HK|HU|IS|IN|ID|IR|IQ|IE|IM|IL|IT|JM|JP|JE|JO |KZ|KE|KI|KP|KR|KW|KG|LA|LV|LB|LS|LR|LY|LI|LT|LU|MO|MK|MG|MW|MY|MV|ML| MT|MH|MQ|MR|MU|YT|MX|FM|MD|MC|MN|ME|MS|MA|MZ|MM|NA|NR|NP|NL|NC|NZ|NI|N E|NG|NU|NF|MP|NO|OM|PK|PW|PS|PA|PG|PY|PE|PH|PN|PL|PT|PR|QA|RE|RO|RU|RW |BL|SH|KN|LC|MF|PM|VC|WS|SM|ST|SA|SN|RS|SC|SL|SG|SX|SK|SI|SB|SO|ZA|GS| SS|ES|LK|SD|SR|SJ|SZ|SE|CH|SY|TW|TJ|TZ|TH|TL|TG|TK|TO|TT|TN|TR|TM|TC|T V|UG|UA|AE|GB|US|UM|UY|UZ|VU|VE|VN|VG|VI|WF|EH|YE|ZM|ZW)$\")\\n',\n",
       " 'originator_account_number:': 'notEmpty\\n',\n",
       " 'originator_branch_id:': 'if($beneficiary_branch_id/empty, notEmpty, empty or notEmpty)\\n',\n",
       " 'originator_bic:': 'notEmpty\\n',\n",
       " 'originator_fi_name:': 'notEmpty\\n',\n",
       " 'originator_fi_country:': 'notEmpty\\n',\n",
       " 'outgoing_intermediary_fi_bic:': 'regex(\"/([a-z]{4}[a-z]{2}[a-z0-9]{2}([a- z0-9]{3})?;?)+/gmi\") or empty\\n',\n",
       " 'beneficiary_full_name:': 'notEmpty\\n',\n",
       " 'beneficiary_first_name:': 'notEmpty or empty beneficiary_middle_names_patronymic: notEmpty or empty beneficiary_last_name: notEmpty or empty\\n',\n",
       " 'beneficiary_address:': 'notEmpty\\n',\n",
       " 'beneficiary_country:': 'regex(\"^(AF|AX|AL|DZ|AS|AD|AO|AI|AQ|AG|AR|AM|AW|AU|AT|AZ|BS|BH|BD|BB|B Y|BE|BZ|BJ|BM|BT|BO|BQ|BA|BW|BV|BR|IO|BN|BG|BF|BI|KH|CM|CA|CV|KY|CF|TD |CL|CN|CX|CC|CO|KM|CG|CD|CK|CR|CI|HR|CU|CW|CY|CZ|DK|DJ|DM|DO|EC|EG|SV| GQ|ER|EE|ET|FK|FO|FJ|FI|FR|GF|PF|TF|GA|GM|GE|DE|GH|GI|GR|GL|GD|GP|GU|G T|GG|GN|GW|GY|HT|HM|VA|HN|HK|HU|IS|IN|ID|IR|IQ|IE|IM|IL|IT|JM|JP|JE|JO |KZ|KE|KI|KP|KR|KW|KG|LA|LV|LB|LS|LR|LY|LI|LT|LU|MO|MK|MG|MW|MY|MV|ML| MT|MH|MQ|MR|MU|YT|MX|FM|MD|MC|MN|ME|MS|MA|MZ|MM|NA|NR|NP|NL|NC|NZ|NI|N E|NG|NU|NF|MP|NO|OM|PK|PW|PS|PA|PG|PY|PE|PH|PN|PL|PT|PR|QA|RE|RO|RU|RW |BL|SH|KN|LC|MF|PM|VC|WS|SM|ST|SA|SN|RS|SC|SL|SG|SX|SK|SI|SB|SO|ZA|GS| SS|ES|LK|SD|SR|SJ|SZ|SE|CH|SY|TW|TJ|TZ|TH|TL|TG|TK|TO|TT|TN|TR|TM|TC|T V|UG|UA|AE|GB|US|UM|UY|UZ|VU|VE|VN|VG|VI|WF|EH|YE|ZM|ZW)$\") beneficiary_account_number: notEmpty\\n',\n",
       " 'beneficiary_branch_id:': 'if($originator_branch_id/empty, notEmpty, empty or notEmpty)\\n',\n",
       " 'beneficiary_bic:': 'notEmpty\\n',\n",
       " 'beneficiary_fi_name:': 'notEmpty\\n',\n",
       " 'beneficiary_fi_country:': 'notEmpty'}"
      ]
     },
     "execution_count": 486,
     "metadata": {},
     "output_type": "execute_result"
    }
   ],
   "source": [
    "with open('swift.txt', 'r') as file:\n",
    "    df, value_requirements = create_dataframe(file)"
   ]
  },
  {
   "cell_type": "code",
   "execution_count": 453,
   "metadata": {},
   "outputs": [],
   "source": [
    "with open('mt103.txt', 'r') as file:\n",
    "    swift_dic = structurize_mt103(file)"
   ]
  },
  {
   "attachments": {},
   "cell_type": "markdown",
   "metadata": {},
   "source": [
    "<h2>AML Functions</h2>\n",
    "<h4>Round amounth payments</h4>"
   ]
  }
 ],
 "metadata": {
  "kernelspec": {
   "display_name": "base",
   "language": "python",
   "name": "python3"
  },
  "language_info": {
   "codemirror_mode": {
    "name": "ipython",
    "version": 3
   },
   "file_extension": ".py",
   "mimetype": "text/x-python",
   "name": "python",
   "nbconvert_exporter": "python",
   "pygments_lexer": "ipython3",
   "version": "3.9.12"
  },
  "orig_nbformat": 4
 },
 "nbformat": 4,
 "nbformat_minor": 2
}
